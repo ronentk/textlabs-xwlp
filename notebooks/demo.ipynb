{
 "cells": [
  {
   "cell_type": "code",
   "execution_count": 8,
   "id": "loved-grocery",
   "metadata": {},
   "outputs": [],
   "source": [
    "import tqdm\n",
    "from pathlib import Path\n",
    "\n",
    "ROOT = Path.cwd().parent\n",
    "import sys\n",
    "sys.path.insert(0, str(ROOT))\n",
    "\n",
    "from peg import PEG\n",
    "from visualize import save_peg_html\n",
    "\n",
    "DATA_DIR = ROOT / \"data\"\n",
    "\n",
    "def load_pegs(data_dir: Path):\n",
    "    pegs = {}\n",
    "    peg_files = list(data_dir.glob(\"**/*.peg\"))\n",
    "    for peg_file in tqdm.tqdm(peg_files, total=len(peg_files)):\n",
    "        name = peg_file.stem\n",
    "        peg = PEG.from_json(peg_file)\n",
    "        proto_idx = peg.proto_idx\n",
    "        pegs[peg.proto_idx] = peg\n",
    "\n",
    "    return pegs"
   ]
  },
  {
   "cell_type": "code",
   "execution_count": 9,
   "id": "indie-buddy",
   "metadata": {},
   "outputs": [
    {
     "name": "stderr",
     "output_type": "stream",
     "text": [
      "100%|██████████| 279/279 [00:03<00:00, 90.28it/s] \n"
     ]
    }
   ],
   "source": [
    "# load all PEGs\n",
    "pegs = load_pegs(DATA_DIR)"
   ]
  },
  {
   "cell_type": "code",
   "execution_count": 10,
   "id": "certain-wisdom",
   "metadata": {},
   "outputs": [],
   "source": [
    "# select some protocol from the data\n",
    "proto_idx = 321 \n",
    "peg = pegs[proto_idx]"
   ]
  },
  {
   "cell_type": "code",
   "execution_count": 13,
   "id": "architectural-shadow",
   "metadata": {},
   "outputs": [
    {
     "name": "stdout",
     "output_type": "stream",
     "text": [
      "321\n",
      "['Fixation of marine samples for flow cytometry sorting', 'Prefilter seawater sample onto 200 µm mesh.', 'Add 1.5 mL of prefiltered seawater sample to a 2 mL cryotube.', 'Add DMSO.', 'Add Pluronic (facultative).', 'Wait 10 min.', 'Flash freeze in liquid nitrogen tank']\n"
     ]
    }
   ],
   "source": [
    "# print protocol idx\n",
    "print(peg.proto_idx)\n",
    "# print raw text\n",
    "print(peg.sentences)"
   ]
  },
  {
   "cell_type": "code",
   "execution_count": 14,
   "id": "subjective-movement",
   "metadata": {},
   "outputs": [
    {
     "name": "stdout",
     "output_type": "stream",
     "text": [
      "(a13 / temp-treat-op\n",
      "     :name (n13 / name\n",
      "                :op1 \"flash-freeze\")\n",
      "     :site (a3 / loc\n",
      "               :name (n3 / name\n",
      "                         :op1 \"liquid-nitrogen-tank\"))\n",
      "     :succ (a12 / time-op\n",
      "                :name (n12 / name\n",
      "                           :op1 \"wait\")\n",
      "                :ARG0 a2\n",
      "                :setting-of (a18 / s\n",
      "                                 :name (n18 / name\n",
      "                                            :op1 \"10-min\")))\n",
      "     :ARG0 (a2 / loc\n",
      "               :name (n2 / name\n",
      "                         :op1 \"cryotube\")\n",
      "               :measure-of (a6 / m\n",
      "                               :name (n6 / name\n",
      "                                         :op1 \"2-ml\"))\n",
      "               :site-of (a9 / transfer-op\n",
      "                            :succ-of (a10 / transfer-op\n",
      "                                          :site a2\n",
      "                                          :ARG0 (a16 / rg\n",
      "                                                     :name (n16 / name\n",
      "                                                                :op1 \"dmso\"))\n",
      "                                          :succ-of (a11 / transfer-op\n",
      "                                                        :site a2\n",
      "                                                        :ARG0 (a17 / rg\n",
      "                                                                   :name (n17 / name\n",
      "                                                                              :op1 \"pluronic\"))\n",
      "                                                        :succ-of a12\n",
      "                                                        :name (n11 / name\n",
      "                                                                   :op1 \"s4-w0-add\"))\n",
      "                                          :name (n10 / name\n",
      "                                                     :op1 \"s3-w0-add\"))\n",
      "                            :name (n9 / name\n",
      "                                      :op1 \"s2-w0-add\")\n",
      "                            :succ (a1 / co-ref-of\n",
      "                                      :name (n1 / name\n",
      "                                                :op1 \"event\")\n",
      "                                      :succ (a8 / default-op\n",
      "                                                :usage-of (a0 / d\n",
      "                                                              :name (n0 / name\n",
      "                                                                        :op1 \"mesh\")\n",
      "                                                              :measure-of (a4 / m\n",
      "                                                                              :name (n4 / name\n",
      "                                                                                        :op1 \"200--m\")))\n",
      "                                                :ARG0 a14\n",
      "                                                :name (n8 / name\n",
      "                                                          :op1 \"prefilter\"))\n",
      "                                      :ARG0 (a14 / rg\n",
      "                                                 :name (n14 / name\n",
      "                                                            :op1 \"s1-w2-seawater-sample\"))\n",
      "                                      :ARG1 a15)\n",
      "                            :ARG0 (a15 / rg\n",
      "                                       :measure-of (a5 / m\n",
      "                                                       :name (n5 / name\n",
      "                                                                 :op1 \"1-5-ml\"))\n",
      "                                       :modifier-of (a7 / mod\n",
      "                                                        :name (n7 / name\n",
      "                                                                  :op1 \"prefiltered\"))\n",
      "                                       :name (n15 / name\n",
      "                                                  :op1 \"s2-w6-seawater-sample\")))))\n"
     ]
    }
   ],
   "source": [
    "# export to AMR format\n",
    "print(peg.to_amr_str())"
   ]
  },
  {
   "cell_type": "code",
   "execution_count": 4,
   "id": "continental-houston",
   "metadata": {},
   "outputs": [],
   "source": [
    "# export to html\n",
    "save_peg_html(peg, \"321.html\")"
   ]
  },
  {
   "cell_type": "code",
   "execution_count": null,
   "id": "induced-certificate",
   "metadata": {},
   "outputs": [],
   "source": [
    "# for manually controlling the interactive visualization display settings\n",
    "# also should be used in cases where visualization doesn't load using default vis. settings \n",
    "# (html page frozen on 0% loading bar)\n",
    "save_peg_html(peg, \"321-manual.html\", manual_vis=True)"
   ]
  }
 ],
 "metadata": {
  "kernelspec": {
   "display_name": "xwlp-dev",
   "language": "python",
   "name": "xwlp-dev"
  },
  "language_info": {
   "codemirror_mode": {
    "name": "ipython",
    "version": 3
   },
   "file_extension": ".py",
   "mimetype": "text/x-python",
   "name": "python",
   "nbconvert_exporter": "python",
   "pygments_lexer": "ipython3",
   "version": "3.7.9"
  }
 },
 "nbformat": 4,
 "nbformat_minor": 5
}
